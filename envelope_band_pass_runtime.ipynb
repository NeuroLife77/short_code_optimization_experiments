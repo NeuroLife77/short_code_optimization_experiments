{
  "nbformat": 4,
  "nbformat_minor": 0,
  "metadata": {
    "colab": {
      "provenance": [],
      "gpuType": "T4",
      "authorship_tag": "ABX9TyNTRL5YzJSBnMimxl1+ar/K",
      "include_colab_link": true
    },
    "kernelspec": {
      "name": "python3",
      "display_name": "Python 3"
    },
    "language_info": {
      "name": "python"
    },
    "accelerator": "GPU"
  },
  "cells": [
    {
      "cell_type": "markdown",
      "metadata": {
        "id": "view-in-github",
        "colab_type": "text"
      },
      "source": [
        "<a href=\"https://colab.research.google.com/github/NeuroLife77/short_code_optimization_experiments/blob/main/envelope_band_pass_runtime.ipynb\" target=\"_parent\"><img src=\"https://colab.research.google.com/assets/colab-badge.svg\" alt=\"Open In Colab\"/></a>"
      ]
    },
    {
      "cell_type": "markdown",
      "source": [
        "# Testing the runtime of computing the envelope of a band-passed signal using scipy vs pytorch\n",
        "\n",
        "If we have N signals of length M then:\n",
        "\n",
        "* Conclusion for band-pass operation:\n",
        "\n",
        " Scipy is a better choice for N=1 and M < 1e4, it might still be a better option (marginally) for N < 3 and M < 1e3 if we compare it with pytorch on CPU but not GPU. This is likely due to scipy convolve not allowing vectorized execution (forcing a python loop).\n",
        "\n",
        "* Conclusion for hilbert transform operation:\n",
        "\n",
        " Scipy is a better choice for N=1 and M < 8e5. It is still a better choice for N < 2 and M < 1e4. The signal size at which it remains faster with increasing N decreases quickly with it being faster at M < 3e2 with N < 250, but after that pytorch is a better option, even the CPU version.\n",
        "\n",
        "\n",
        " * Conclusion for both operations together:\n",
        "\n",
        " Scipy is a better choice for N = 1 and M < 6e2 and  N < 1 and M < 3e2 otherwise pytorch is a better choice. As N increases even the pytorch CPU version gets much faster.\n",
        "\n",
        "\n",
        "\n",
        "\n"
      ],
      "metadata": {
        "id": "5PHhLeM97chs"
      }
    },
    {
      "cell_type": "code",
      "execution_count": 6,
      "metadata": {
        "id": "YsDpjiYzs0p0"
      },
      "outputs": [],
      "source": [
        "from scipy.signal import firwin\n",
        "from math import ceil\n",
        "from numpy import pi as npi\n",
        "import numpy as np\n",
        "import torch\n",
        "def get_fir_window(band, ripple, width,  fs, scale=True, **kwargs):\n",
        "    \"\"\"\n",
        "    Shamelessly stolen from\n",
        "    https://github.com/scipy/scipy/blob/v0.14.0/scipy/signal/fir_filter_design.py#L85\n",
        "    and\n",
        "    https://github.com/scipy/scipy/blob/v0.14.0/scipy/signal/fir_filter_design.py#L29\n",
        "    \"\"\"\n",
        "    width_norm = width/(0.5*fs)\n",
        "    a = abs(ripple)\n",
        "    if a < 8:\n",
        "        # Formula for N is not valid in this range.\n",
        "        raise ValueError(\"Requested maximum ripple attentuation %f is too \"\n",
        "                            \"small for the Kaiser formula.\" % a)\n",
        "    if a > 50:\n",
        "        beta = 0.1102 * (a - 8.7)\n",
        "    elif a > 21:\n",
        "        beta = 0.5842 * (a - 21) ** 0.4 + 0.07886 * (a - 21)\n",
        "    else:\n",
        "        beta = 0.0\n",
        "    beta = round(beta,4)\n",
        "    numtaps = (a - 7.95) / 2.285 / (npi * width_norm) + 1\n",
        "    ntaps = int(ceil(numtaps))\n",
        "    ntaps = ntaps + (1-ntaps%2)\n",
        "    centered_band = [1e-5,fs//2 - 1]\n",
        "    if band[0] is not None:\n",
        "        centered_band[0] = band[0]-width/2\n",
        "    if band[1] is not None:\n",
        "        centered_band[1] = band[1]+width/2\n",
        "    return firwin(ntaps, centered_band, window=(\"kaiser\", beta), scale = scale, pass_zero=False,fs=fs,**kwargs)\n",
        "\n",
        "def ensure_torch(x, type_float = False):\n",
        "    try:\n",
        "        x = torch.as_tensor(x)\n",
        "        if type_float:\n",
        "            x = x.float()\n",
        "    except:\n",
        "        try:\n",
        "            x = torch.from_numpy(x)\n",
        "        except:\n",
        "            pass\n",
        "    if type_float:\n",
        "        try:\n",
        "            x = x.float()\n",
        "        except:\n",
        "            pass\n",
        "    return x\n",
        "\n",
        "def ensure_numpy(x,**kwargs):\n",
        "\n",
        "    try:\n",
        "        x = x.detach()\n",
        "    except:\n",
        "        pass\n",
        "\n",
        "    try:\n",
        "        x = x.to('cpu')\n",
        "    except:\n",
        "        pass\n",
        "\n",
        "    try:\n",
        "        x = x.numpy()\n",
        "    except:\n",
        "        pass\n",
        "\n",
        "    return x\n"
      ]
    },
    {
      "cell_type": "code",
      "source": [
        "from scipy.signal import convolve as spconvolve\n",
        "from torchaudio.functional import convolve as tconvolve\n",
        "from torchaudio.functional import fftconvolve as tfftconvolve\n",
        "def band_pass_torchaudio(signal,band,ripple,width,fs, return_pad = 0.2, convolve_type = \"auto\", device=\"cpu\", verbose = 1, return_signal_mask = True):\n",
        "\n",
        "    win = ensure_torch(get_fir_window(band,ripple,width=width, fs = fs))\n",
        "    if convolve_type == \"fft\" or (convolve_type == \"auto\" and len(win)*signal.shape[-1]>1e5 and abs(len(win)-signal.shape[-1])>1e2):\n",
        "        convolve = tfftconvolve\n",
        "    else:\n",
        "        convolve = tconvolve\n",
        "\n",
        "    win = win.to(device)\n",
        "\n",
        "    E = win[win.shape[-1]//2:] ** 2\n",
        "    E = E.cumsum(dim=-1)\n",
        "    E = E / E.amax()\n",
        "    iE99 = ((E-0.99).abs().argmin() / fs).item()\n",
        "    edge_percent = 2*iE99 / (signal.shape[-1]/fs)\n",
        "    if edge_percent>0.1:\n",
        "        if verbose > 0:\n",
        "            print(f\"Start up and end transients represent {round(edge_percent*100,2)}% of your data.\")\n",
        "\n",
        "    pad_size = win.shape[0]//2\n",
        "    mean_centered_signal = signal\n",
        "    if len(mean_centered_signal.shape)<2:\n",
        "        mean_centered_signal = mean_centered_signal.unsqueeze(0)\n",
        "    signal_size = mean_centered_signal.shape[-1]\n",
        "    mean_signal = mean_centered_signal.mean(-1, keepdims=True)\n",
        "    mean_centered_signal = mean_centered_signal - mean_signal\n",
        "    padded_signal = torch.cat([torch.zeros(*mean_centered_signal.shape[:-1],pad_size, device=device),mean_centered_signal,torch.zeros(*mean_centered_signal.shape[:-1],pad_size, device=device)], dim = -1).to(device)\n",
        "    #print(padded_signal.shape)\n",
        "    if len(padded_signal.shape)<2:\n",
        "        padded_signal = padded_signal.unsqueeze(0)\n",
        "    if return_pad is not None:\n",
        "        if return_pad > 1:\n",
        "            return_pad = 1/return_pad\n",
        "        signal_start = 2*int(pad_size)\n",
        "        remainin_pad_size = int(pad_size*return_pad)\n",
        "        remaining_margin_start = signal_start-remainin_pad_size\n",
        "        remaining_margin_end = signal_start + signal_size + remainin_pad_size\n",
        "    else:\n",
        "        signal_start = 2*int(pad_size)\n",
        "        remainin_pad_size = 2*int(pad_size)\n",
        "        remaining_margin_start = None\n",
        "        remaining_margin_end = None\n",
        "    win = win.view(*[1 for _ in range(len(padded_signal.shape[:-1]))],-1)\n",
        "    filtered_signal = convolve(padded_signal,win, mode = \"full\")[...,remaining_margin_start:remaining_margin_end]\n",
        "    signal_end = signal_size+remainin_pad_size\n",
        "    signal_mask = torch.arange(remainin_pad_size,signal_end, dtype=int, device=device)\n",
        "    if band[-1] is None:\n",
        "        filtered_signal[...,signal_mask] = filtered_signal[...,signal_mask] + mean_signal\n",
        "    if len(signal.shape)<2:\n",
        "        filtered_signal = filtered_signal\n",
        "    return filtered_signal.cpu(), signal_mask.cpu()\n",
        "\n",
        "from torch.fft import fft, ifft, fftfreq\n",
        "def get_hilbert_torch(signal, fs, device=\"cpu\", use_pow2 = False, signal_mask = None):\n",
        "\n",
        "    fft_fn = fft\n",
        "    ifft_fn = ifft\n",
        "    fftfreq_fn = fftfreq\n",
        "    signal_size = signal.shape[-1]\n",
        "    if use_pow2:\n",
        "        dist_from_pow = (torch.log2(torch.tensor(signal_size)).ceil().exp2() - signal_size).detach().item()\n",
        "        pad_start = int(dist_from_pow//2)\n",
        "        pad_start_odd = int((dist_from_pow/2)>0)\n",
        "        signal = torch.cat([torch.zeros(*signal.shape[:-1],pad_start, device=device),signal,torch.zeros(*signal.shape[:-1],pad_start+pad_start_odd, device=device)], dim = -1).to(device)\n",
        "    else:\n",
        "        pad_start = 0\n",
        "\n",
        "    freqs = fftfreq_fn(signal.shape[-1],d=1/fs)\n",
        "    signal_fft = fft_fn(signal)\n",
        "    signal_fft[...,freqs<0] = 0\n",
        "    signal_fft[...,freqs>0] = signal_fft[...,freqs>0]*2\n",
        "\n",
        "    analytical_signal = ifft_fn(signal_fft)[...,pad_start:signal_size]\n",
        "    if signal_mask is not None:\n",
        "        analytical_signal = analytical_signal[...,signal_mask]\n",
        "\n",
        "    return analytical_signal.cpu()\n"
      ],
      "metadata": {
        "id": "uWzG_f7HtLGF"
      },
      "execution_count": 38,
      "outputs": []
    },
    {
      "cell_type": "code",
      "source": [
        "from scipy.fft import fft as spfft\n",
        "from scipy.fft import ifft as spifft\n",
        "from scipy.fft import fftfreq as spfftfreq\n",
        "\n",
        "def band_pass_scipy(signal,band,ripple,width,fs, return_pad = 0.2, verbose = 0, axis = -1):\n",
        "    if len(signal.shape) == 1:\n",
        "        return band_pass_single(signal,band,ripple,width,fs,return_pad = return_pad, verbose = verbose)\n",
        "    band_passed_signals = []\n",
        "    band_passed_signals_masks = []\n",
        "    temp_signal = signal\n",
        "    if axis != -1:\n",
        "        temp_signal = np.swapaxes(signal,axis, -1)\n",
        "    for signal_index in range(temp_signal.shape[0]):\n",
        "        signal_element = temp_signal[signal_index]\n",
        "        if len(signal_element.shape)>1:\n",
        "            signal_bandpassed, signal_bandpass_mask = band_pass_scipy(signal_element,band,ripple,width,fs, return_pad = return_pad, verbose = verbose, axis = -1)\n",
        "        else:\n",
        "            signal_bandpassed, signal_bandpass_mask = band_pass_single(signal_element,band,ripple,width,fs,return_pad = return_pad, verbose = verbose)\n",
        "        signal_bandpassed = signal_bandpassed[None,...]\n",
        "        signal_bandpass_mask = signal_bandpass_mask[None,...]\n",
        "        band_passed_signals.append(signal_bandpassed)\n",
        "        band_passed_signals_masks.append(signal_bandpass_mask)\n",
        "    band_passed_signals = np.concatenate(band_passed_signals, axis = 0)\n",
        "    band_passed_signals_masks = np.concatenate(band_passed_signals_masks, axis = 0)\n",
        "    if axis != -1:\n",
        "        band_passed_signals = np.swapaxes(band_passed_signals,axis, -1)\n",
        "        band_passed_signals_masks = np.swapaxes(band_passed_signals_masks,axis, -1)\n",
        "    return band_passed_signals, band_passed_signals_masks\n",
        "\n",
        "\n",
        "def band_pass_single(signal,band,ripple,width,fs, return_pad = 0.2, verbose = 1):\n",
        "    win = get_fir_window(band,ripple,width=width, fs = fs)\n",
        "\n",
        "    E = win[win.shape[-1]//2:] ** 2\n",
        "    E = np.cumsum(E, axis=-1)\n",
        "    E = E / E.max()\n",
        "    iE99 = (np.abs(E-0.99).argmin() / fs).item()\n",
        "    edge_percent = 2*iE99 / (signal.shape[-1]/fs)\n",
        "    if edge_percent>0.1:\n",
        "        if verbose > 0:\n",
        "            print(f\"Start up and end transients represent {round(edge_percent*100,2)}% of your data.\")\n",
        "\n",
        "    pad_size = win.shape[0]//2\n",
        "    mean_centered_signal = signal\n",
        "    if len(mean_centered_signal.shape)<2:\n",
        "        mean_centered_signal = mean_centered_signal[None,...]\n",
        "    signal_size = mean_centered_signal.shape[-1]\n",
        "    mean_signal = mean_centered_signal.mean(-1, keepdims=True)\n",
        "    mean_centered_signal = mean_centered_signal - mean_signal\n",
        "    padded_signal = np.concatenate([np.zeros((*mean_centered_signal.shape[:-1],pad_size)),mean_centered_signal,np.zeros((*mean_centered_signal.shape[:-1],pad_size))], axis = -1)\n",
        "    #print(padded_signal.shape)\n",
        "    if len(padded_signal.shape)<2:\n",
        "        padded_signal = padded_signal[None,...]\n",
        "    if return_pad is not None:\n",
        "        if return_pad > 1:\n",
        "            return_pad = 1/return_pad\n",
        "        signal_start = 2*int(pad_size)\n",
        "        remainin_pad_size = int(pad_size*return_pad)\n",
        "        remaining_margin_start = signal_start-remainin_pad_size\n",
        "        remaining_margin_end = signal_start + signal_size + remainin_pad_size\n",
        "    else:\n",
        "        signal_start = 2*int(pad_size)\n",
        "        remainin_pad_size = 2*int(pad_size)\n",
        "        remaining_margin_start = None\n",
        "        remaining_margin_end = None\n",
        "    win = win.reshape((*[1 for _ in range(len(padded_signal.shape[:-1]))],-1))\n",
        "    filtered_signal = spconvolve(padded_signal,win, mode = \"full\")[...,remaining_margin_start:remaining_margin_end]\n",
        "    signal_end = signal_size+remainin_pad_size\n",
        "    signal_mask = np.arange(remainin_pad_size,signal_end, dtype=int)\n",
        "    if band[-1] is None:\n",
        "        filtered_signal[...,signal_mask] = filtered_signal[...,signal_mask] + mean_signal\n",
        "    if len(signal.shape)<2:\n",
        "        filtered_signal = np.squeeze(filtered_signal)\n",
        "    return filtered_signal, signal_mask\n",
        "\n",
        "\n",
        "def get_hilbert_scipy(signal, fs, use_pow2 = False, signal_mask = None, return_envelope = False):\n",
        "    signal_size = signal.shape[-1]\n",
        "    if use_pow2:\n",
        "        dist_from_pow = (np.exp2(np.ceil(np.log2(signal.shape[-1]))) - signal.shape[-1]).item()\n",
        "        pad_start = int(dist_from_pow//2)\n",
        "        pad_start_odd = int((dist_from_pow/2)>0)\n",
        "        signal = np.concatenate([np.zeros((*signal.shape[:-1],pad_start)),signal,np.zeros((*signal.shape[:-1],pad_start+pad_start_odd))], axis = -1)\n",
        "    else:\n",
        "        pad_start = 0\n",
        "\n",
        "    freqs = spfftfreq(signal.shape[-1],d=1/fs)\n",
        "    signal_fft = spfft(signal)\n",
        "    signal_fft[...,freqs<0] = 0\n",
        "    signal_fft[...,freqs>0] = signal_fft[...,freqs>0]*2\n",
        "\n",
        "    analytical_signal = spifft(signal_fft)[...,pad_start:signal_size]\n",
        "    if signal_mask is not None:\n",
        "        analytical_signal = analytical_signal[...,signal_mask]\n",
        "\n",
        "    if return_envelope:\n",
        "        return np.abs(analytical_signal)\n",
        "    return analytical_signal"
      ],
      "metadata": {
        "id": "dR2plvzowCs5"
      },
      "execution_count": 23,
      "outputs": []
    },
    {
      "cell_type": "code",
      "source": [
        "signal_size = int(1e4)\n",
        "signal = np.random.normal(size = (signal_size,))\n",
        "%timeit _ = band_pass_scipy(signal,[10,20],60,1,600, return_pad = 0.2, verbose = 0)\n",
        "signal = ensure_torch(signal)\n",
        "%timeit _ = band_pass_torchaudio(signal,[10,20],60,1,600,return_pad = 0.2, convolve_type = \"auto\", device=\"cpu\", verbose = 0, return_signal_mask = False)\n",
        "signal = signal.to(\"cuda\")\n",
        "%timeit _ = band_pass_torchaudio(signal,[10,20],60,1,600,return_pad = 0.2, convolve_type = \"auto\", device=\"cuda\", verbose = 0, return_signal_mask = False)"
      ],
      "metadata": {
        "colab": {
          "base_uri": "https://localhost:8080/"
        },
        "id": "XYKnVbazxjxu",
        "outputId": "be27a92f-acc9-4877-e9cc-ed477273d87f"
      },
      "execution_count": 27,
      "outputs": [
        {
          "output_type": "stream",
          "name": "stdout",
          "text": [
            "1.42 ms ± 316 µs per loop (mean ± std. dev. of 7 runs, 1000 loops each)\n",
            "2.84 ms ± 603 µs per loop (mean ± std. dev. of 7 runs, 100 loops each)\n",
            "1.54 ms ± 90.6 µs per loop (mean ± std. dev. of 7 runs, 1000 loops each)\n"
          ]
        }
      ]
    },
    {
      "cell_type": "code",
      "source": [
        "signal_size = int(1e4)\n",
        "signal = np.random.normal(size = (2,signal_size))\n",
        "%timeit _ = band_pass_scipy(signal,[10,20],60,1,600, return_pad = 0.2, verbose = 0)\n",
        "signal = ensure_torch(signal)\n",
        "%timeit _ = band_pass_torchaudio(signal,[10,20],60,1,600,return_pad = 0.2, convolve_type = \"auto\", device=\"cpu\", verbose = 0, return_signal_mask = False)\n",
        "signal = signal.to(\"cuda\")\n",
        "%timeit _ = band_pass_torchaudio(signal,[10,20],60,1,600,return_pad = 0.2, convolve_type = \"auto\", device=\"cuda\", verbose = 0, return_signal_mask = False)"
      ],
      "metadata": {
        "colab": {
          "base_uri": "https://localhost:8080/"
        },
        "id": "dpYeXZgIwXJq",
        "outputId": "35b255a9-b967-46c9-c809-c19369ae803c"
      },
      "execution_count": 26,
      "outputs": [
        {
          "output_type": "stream",
          "name": "stdout",
          "text": [
            "2.74 ms ± 444 µs per loop (mean ± std. dev. of 7 runs, 100 loops each)\n",
            "2.84 ms ± 494 µs per loop (mean ± std. dev. of 7 runs, 100 loops each)\n",
            "1.61 ms ± 151 µs per loop (mean ± std. dev. of 7 runs, 1000 loops each)\n"
          ]
        }
      ]
    },
    {
      "cell_type": "code",
      "source": [
        "signal_size = int(3e2)\n",
        "signal = np.random.normal(size = (2,signal_size))\n",
        "%timeit _ = band_pass_scipy(signal,[10,20],60,1,600, return_pad = 0.2, verbose = 0)\n",
        "signal = ensure_torch(signal)\n",
        "%timeit _ = band_pass_torchaudio(signal,[10,20],60,1,600,return_pad = 0.2, convolve_type = \"auto\", device=\"cpu\", verbose = 0, return_signal_mask = False)\n",
        "signal = signal.to(\"cuda\")\n",
        "%timeit _ = band_pass_torchaudio(signal,[10,20],60,1,600,return_pad = 0.2, convolve_type = \"auto\", device=\"cuda\", verbose = 0, return_signal_mask = False)"
      ],
      "metadata": {
        "colab": {
          "base_uri": "https://localhost:8080/"
        },
        "id": "E6gklGuK0Fqn",
        "outputId": "74f3308e-f74a-4119-d111-ce4051724fd1"
      },
      "execution_count": 29,
      "outputs": [
        {
          "output_type": "stream",
          "name": "stdout",
          "text": [
            "1.84 ms ± 170 µs per loop (mean ± std. dev. of 7 runs, 1000 loops each)\n",
            "2.05 ms ± 273 µs per loop (mean ± std. dev. of 7 runs, 1000 loops each)\n",
            "1.82 ms ± 145 µs per loop (mean ± std. dev. of 7 runs, 100 loops each)\n"
          ]
        }
      ]
    },
    {
      "cell_type": "code",
      "source": [
        "signal_size = int(1e2)\n",
        "signal = np.random.normal(size = (5,signal_size))\n",
        "%timeit _ = band_pass_scipy(signal,[10,20],60,1,600, return_pad = 0.2, verbose = 0)\n",
        "signal = ensure_torch(signal)\n",
        "%timeit _ = band_pass_torchaudio(signal,[10,20],60,1,600,return_pad = 0.2, convolve_type = \"auto\", device=\"cpu\", verbose = 0, return_signal_mask = False)\n",
        "signal = signal.to(\"cuda\")\n",
        "%timeit _ = band_pass_torchaudio(signal,[10,20],60,1,600,return_pad = 0.2, convolve_type = \"auto\", device=\"cuda\", verbose = 0, return_signal_mask = False)"
      ],
      "metadata": {
        "colab": {
          "base_uri": "https://localhost:8080/"
        },
        "id": "v9jOla_g0To4",
        "outputId": "a5ee9d15-21c3-45fb-f143-66d66258d796"
      },
      "execution_count": 31,
      "outputs": [
        {
          "output_type": "stream",
          "name": "stdout",
          "text": [
            "4.4 ms ± 52.9 µs per loop (mean ± std. dev. of 7 runs, 100 loops each)\n",
            "1.76 ms ± 178 µs per loop (mean ± std. dev. of 7 runs, 1000 loops each)\n",
            "1.78 ms ± 194 µs per loop (mean ± std. dev. of 7 runs, 100 loops each)\n"
          ]
        }
      ]
    },
    {
      "cell_type": "code",
      "source": [
        "signal_size = int(1e4)\n",
        "signal = np.random.normal(size = (25,signal_size))\n",
        "%timeit _ = band_pass_scipy(signal,[10,20],60,1,600, return_pad = 0.2, verbose = 0)\n",
        "signal = ensure_torch(signal)\n",
        "%timeit _ = band_pass_torchaudio(signal,[10,20],60,1,600,return_pad = 0.2, convolve_type = \"auto\", device=\"cpu\", verbose = 0, return_signal_mask = False)\n",
        "signal = signal.to(\"cuda\")\n",
        "%timeit _ = band_pass_torchaudio(signal,[10,20],60,1,600,return_pad = 0.2, convolve_type = \"auto\", device=\"cuda\", verbose = 0, return_signal_mask = False)"
      ],
      "metadata": {
        "colab": {
          "base_uri": "https://localhost:8080/"
        },
        "id": "_fKDdliG0pEw",
        "outputId": "2c0acb07-3355-4bd2-9978-754b4b0c7a8e"
      },
      "execution_count": 32,
      "outputs": [
        {
          "output_type": "stream",
          "name": "stdout",
          "text": [
            "31.8 ms ± 1.16 ms per loop (mean ± std. dev. of 7 runs, 10 loops each)\n",
            "8.35 ms ± 1.28 ms per loop (mean ± std. dev. of 7 runs, 100 loops each)\n",
            "2.63 ms ± 369 µs per loop (mean ± std. dev. of 7 runs, 100 loops each)\n"
          ]
        }
      ]
    },
    {
      "cell_type": "code",
      "source": [
        "def get_band_envelope_scipy(signal, fs = 600):\n",
        "    signal_bandpassed, signal_bandpass_mask = band_pass_scipy(signal,[10,20],60,1,fs, return_pad = 0.2, verbose = 0)\n",
        "    return get_hilbert_scipy(signal_bandpassed,fs, signal_mask=signal_bandpass_mask, return_envelope=True)\n",
        "\n",
        "def get_band_envelope_torch(signal, fs = 600, device=\"cpu\", use_pow2 = False):\n",
        "    signal_bandpassed, signal_bandpass_mask = band_pass_torchaudio(signal,[10,20],60,1,fs, return_pad = 0.2, device=device,  convolve_type = \"auto\", verbose = 0, return_signal_mask = True)\n",
        "    return get_hilbert_torch(signal_bandpassed, fs, device=device, use_pow2 = use_pow2, signal_mask = signal_bandpass_mask).abs()\n",
        "\n"
      ],
      "metadata": {
        "id": "kUJDfk7P04EX"
      },
      "execution_count": 34,
      "outputs": []
    },
    {
      "cell_type": "code",
      "source": [
        "signal_size = int(3e2)\n",
        "signal = np.random.normal(size = (signal_size,))\n",
        "%timeit _ = get_hilbert_scipy(signal, 600,  return_envelope=True)\n",
        "signal = ensure_torch(signal)\n",
        "%timeit _ = get_hilbert_torch(signal, 600).abs()\n",
        "%timeit _ = get_hilbert_torch(signal, 600, use_pow2 = True).abs()\n",
        "signal = signal.to(\"cuda\")\n",
        "%timeit _ = get_hilbert_torch(signal,600, device=\"cuda\").abs().cpu()\n",
        "%timeit _ = get_hilbert_torch(signal,600, device=\"cuda\", use_pow2 = True).abs().cpu()\n"
      ],
      "metadata": {
        "colab": {
          "base_uri": "https://localhost:8080/"
        },
        "id": "5Tqw3YDp2L2D",
        "outputId": "eae4cf5f-1839-4543-d41a-aeb12f94a2c5"
      },
      "execution_count": 55,
      "outputs": [
        {
          "output_type": "stream",
          "name": "stdout",
          "text": [
            "51.3 µs ± 1.24 µs per loop (mean ± std. dev. of 7 runs, 10000 loops each)\n",
            "197 µs ± 39.3 µs per loop (mean ± std. dev. of 7 runs, 10000 loops each)\n",
            "344 µs ± 73.8 µs per loop (mean ± std. dev. of 7 runs, 1000 loops each)\n",
            "388 µs ± 14.5 µs per loop (mean ± std. dev. of 7 runs, 1000 loops each)\n",
            "643 µs ± 35.3 µs per loop (mean ± std. dev. of 7 runs, 1000 loops each)\n"
          ]
        }
      ]
    },
    {
      "cell_type": "code",
      "source": [
        "signal_size = int(8e4)\n",
        "signal = np.random.normal(size = (signal_size,))\n",
        "%timeit _ = get_hilbert_scipy(signal, 600,  return_envelope=True)\n",
        "signal = ensure_torch(signal)\n",
        "%timeit _ = get_hilbert_torch(signal, 600).abs()\n",
        "signal = signal.to(\"cuda\")\n",
        "%timeit _ = get_hilbert_torch(signal,600, device=\"cuda\").abs().cpu()\n"
      ],
      "metadata": {
        "colab": {
          "base_uri": "https://localhost:8080/"
        },
        "id": "f1XagiFs2810",
        "outputId": "2a738437-1be3-40a7-a5d7-4f4219f75490"
      },
      "execution_count": 62,
      "outputs": [
        {
          "output_type": "stream",
          "name": "stdout",
          "text": [
            "4.18 ms ± 35.7 µs per loop (mean ± std. dev. of 7 runs, 100 loops each)\n",
            "8.13 ms ± 1.23 ms per loop (mean ± std. dev. of 7 runs, 100 loops each)\n",
            "3.73 ms ± 96.1 µs per loop (mean ± std. dev. of 7 runs, 100 loops each)\n"
          ]
        }
      ]
    },
    {
      "cell_type": "code",
      "source": [
        "signal_size = int(5e4)\n",
        "signal = np.random.normal(size = (2,signal_size))\n",
        "%timeit _ = get_hilbert_scipy(signal, 600,  return_envelope=True)\n",
        "signal = ensure_torch(signal)\n",
        "%timeit _ = get_hilbert_torch(signal, 600).abs()\n",
        "signal = signal.to(\"cuda\")\n",
        "%timeit _ = get_hilbert_torch(signal,600, device=\"cuda\").abs().cpu()\n"
      ],
      "metadata": {
        "colab": {
          "base_uri": "https://localhost:8080/"
        },
        "id": "YJAnaRuH3X4u",
        "outputId": "447f4213-8fa2-4d39-fa7b-d0dcab809a5e"
      },
      "execution_count": 68,
      "outputs": [
        {
          "output_type": "stream",
          "name": "stdout",
          "text": [
            "4.72 ms ± 143 µs per loop (mean ± std. dev. of 7 runs, 100 loops each)\n",
            "5.51 ms ± 996 µs per loop (mean ± std. dev. of 7 runs, 100 loops each)\n",
            "3.9 ms ± 370 µs per loop (mean ± std. dev. of 7 runs, 100 loops each)\n"
          ]
        }
      ]
    },
    {
      "cell_type": "code",
      "source": [
        "signal_size = int(1e4)\n",
        "signal = np.random.normal(size = (2,signal_size))\n",
        "%timeit _ = get_hilbert_scipy(signal, 600,  return_envelope=True)\n",
        "signal = ensure_torch(signal)\n",
        "%timeit _ = get_hilbert_torch(signal, 600).abs()\n",
        "signal = signal.to(\"cuda\")\n",
        "%timeit _ = get_hilbert_torch(signal,600, device=\"cuda\").abs().cpu()\n"
      ],
      "metadata": {
        "colab": {
          "base_uri": "https://localhost:8080/"
        },
        "id": "6BCoUgjE3mPq",
        "outputId": "b1a2979b-d995-440d-9769-8e9be457c8f2"
      },
      "execution_count": 70,
      "outputs": [
        {
          "output_type": "stream",
          "name": "stdout",
          "text": [
            "1.06 ms ± 199 µs per loop (mean ± std. dev. of 7 runs, 1000 loops each)\n",
            "1.18 ms ± 110 µs per loop (mean ± std. dev. of 7 runs, 1000 loops each)\n",
            "1.25 ms ± 14.6 µs per loop (mean ± std. dev. of 7 runs, 1000 loops each)\n"
          ]
        }
      ]
    },
    {
      "cell_type": "code",
      "source": [
        "signal_size = int(3e2)\n",
        "signal = np.random.normal(size = (250,signal_size))\n",
        "%timeit _ = get_hilbert_scipy(signal, 600,  return_envelope=True)\n",
        "signal = ensure_torch(signal)\n",
        "%timeit _ = get_hilbert_torch(signal, 600).abs()\n",
        "signal = signal.to(\"cuda\")\n",
        "%timeit _ = get_hilbert_torch(signal,600, device=\"cuda\").abs().cpu()\n"
      ],
      "metadata": {
        "colab": {
          "base_uri": "https://localhost:8080/"
        },
        "id": "6TwV4cdp3yXR",
        "outputId": "29ef22df-e1b4-4381-f83e-eeefe4a2db52"
      },
      "execution_count": 59,
      "outputs": [
        {
          "output_type": "stream",
          "name": "stdout",
          "text": [
            "2.06 ms ± 846 µs per loop (mean ± std. dev. of 7 runs, 1000 loops each)\n",
            "2.42 ms ± 120 µs per loop (mean ± std. dev. of 7 runs, 100 loops each)\n",
            "2.51 ms ± 222 µs per loop (mean ± std. dev. of 7 runs, 100 loops each)\n"
          ]
        }
      ]
    },
    {
      "cell_type": "code",
      "source": [
        "signal_size = int(6e2)\n",
        "signal = np.random.normal(size = (250,signal_size))\n",
        "%timeit _ = get_hilbert_scipy(signal, 600,  return_envelope=True)\n",
        "signal = ensure_torch(signal)\n",
        "%timeit _ = get_hilbert_torch(signal, 600).abs()\n",
        "signal = signal.to(\"cuda\")\n",
        "%timeit _ = get_hilbert_torch(signal,600, device=\"cuda\").abs().cpu()\n"
      ],
      "metadata": {
        "colab": {
          "base_uri": "https://localhost:8080/"
        },
        "id": "AI76KUOH4JM8",
        "outputId": "a98d9bc8-daee-4855-c579-003c06bdc00a"
      },
      "execution_count": 71,
      "outputs": [
        {
          "output_type": "stream",
          "name": "stdout",
          "text": [
            "4.49 ms ± 957 µs per loop (mean ± std. dev. of 7 runs, 100 loops each)\n",
            "4.66 ms ± 100 µs per loop (mean ± std. dev. of 7 runs, 100 loops each)\n",
            "3.46 ms ± 55.5 µs per loop (mean ± std. dev. of 7 runs, 100 loops each)\n"
          ]
        }
      ]
    },
    {
      "cell_type": "code",
      "source": [
        "signal_size = int(3e2)\n",
        "signal = np.random.normal(size = (signal_size,))\n",
        "%timeit _ = get_band_envelope_scipy(signal)\n",
        "signal = ensure_torch(signal)\n",
        "%timeit _ = get_band_envelope_torch(signal)\n",
        "signal = signal.to(\"cuda\")\n",
        "%timeit _ = get_band_envelope_torch(signal, device=\"cuda\")\n"
      ],
      "metadata": {
        "colab": {
          "base_uri": "https://localhost:8080/"
        },
        "id": "179Q9sku0vI_",
        "outputId": "f27e8bca-f9c0-43e9-e56e-6bb6a39b0d31"
      },
      "execution_count": 72,
      "outputs": [
        {
          "output_type": "stream",
          "name": "stdout",
          "text": [
            "1.08 ms ± 118 µs per loop (mean ± std. dev. of 7 runs, 1000 loops each)\n",
            "2.62 ms ± 140 µs per loop (mean ± std. dev. of 7 runs, 100 loops each)\n",
            "2.55 ms ± 218 µs per loop (mean ± std. dev. of 7 runs, 100 loops each)\n"
          ]
        }
      ]
    },
    {
      "cell_type": "code",
      "source": [
        "signal_size = int(5e5)\n",
        "signal = np.random.normal(size = (signal_size,))\n",
        "%timeit _ = get_band_envelope_scipy(signal)\n",
        "signal = ensure_torch(signal)\n",
        "%timeit _ = get_band_envelope_torch(signal)\n",
        "signal = signal.to(\"cuda\")\n",
        "%timeit _ = get_band_envelope_torch(signal, device=\"cuda\")\n"
      ],
      "metadata": {
        "colab": {
          "base_uri": "https://localhost:8080/"
        },
        "id": "MMtbqcVu6cqK",
        "outputId": "9f79b741-47a8-4ecf-a18f-951730b6d18d"
      },
      "execution_count": 82,
      "outputs": [
        {
          "output_type": "stream",
          "name": "stdout",
          "text": [
            "132 ms ± 20.9 ms per loop (mean ± std. dev. of 7 runs, 10 loops each)\n",
            "305 ms ± 18.4 ms per loop (mean ± std. dev. of 7 runs, 1 loop each)\n",
            "104 ms ± 13.5 ms per loop (mean ± std. dev. of 7 runs, 10 loops each)\n"
          ]
        }
      ]
    },
    {
      "cell_type": "code",
      "source": [
        "signal_size = int(3e2)\n",
        "signal = np.random.normal(size = (2,signal_size))\n",
        "%timeit _ = get_band_envelope_scipy(signal)\n",
        "signal = ensure_torch(signal)\n",
        "%timeit _ = get_band_envelope_torch(signal)\n",
        "signal = signal.to(\"cuda\")\n",
        "%timeit _ = get_band_envelope_torch(signal, device=\"cuda\")\n"
      ],
      "metadata": {
        "colab": {
          "base_uri": "https://localhost:8080/"
        },
        "id": "DLPkDTdH6fJm",
        "outputId": "7ab4b1f1-0048-4010-a146-745bab369b7a"
      },
      "execution_count": 81,
      "outputs": [
        {
          "output_type": "stream",
          "name": "stdout",
          "text": [
            "2.03 ms ± 106 µs per loop (mean ± std. dev. of 7 runs, 100 loops each)\n",
            "3.23 ms ± 255 µs per loop (mean ± std. dev. of 7 runs, 100 loops each)\n",
            "2.4 ms ± 84.7 µs per loop (mean ± std. dev. of 7 runs, 100 loops each)\n"
          ]
        }
      ]
    },
    {
      "cell_type": "code",
      "source": [
        "signal_size = int(3e2)\n",
        "signal = np.random.normal(size = (3,signal_size))\n",
        "%timeit _ = get_band_envelope_scipy(signal)\n",
        "signal = ensure_torch(signal)\n",
        "%timeit _ = get_band_envelope_torch(signal)\n",
        "signal = signal.to(\"cuda\")\n",
        "%timeit _ = get_band_envelope_torch(signal, device=\"cuda\")\n"
      ],
      "metadata": {
        "colab": {
          "base_uri": "https://localhost:8080/"
        },
        "id": "W3CNjhOm7M8_",
        "outputId": "33eb10ba-8744-454f-b914-9537cdb991bf"
      },
      "execution_count": 83,
      "outputs": [
        {
          "output_type": "stream",
          "name": "stdout",
          "text": [
            "3.01 ms ± 99.9 µs per loop (mean ± std. dev. of 7 runs, 100 loops each)\n",
            "2.49 ms ± 119 µs per loop (mean ± std. dev. of 7 runs, 100 loops each)\n",
            "2.47 ms ± 90.1 µs per loop (mean ± std. dev. of 7 runs, 100 loops each)\n"
          ]
        }
      ]
    },
    {
      "cell_type": "code",
      "source": [
        "signal_size = int(3e3)\n",
        "signal = np.random.normal(size = (100,signal_size))\n",
        "%timeit _ = get_band_envelope_scipy(signal)\n",
        "signal = ensure_torch(signal)\n",
        "%timeit _ = get_band_envelope_torch(signal)\n",
        "signal = signal.to(\"cuda\")\n",
        "%timeit _ = get_band_envelope_torch(signal, device=\"cuda\")\n"
      ],
      "metadata": {
        "colab": {
          "base_uri": "https://localhost:8080/"
        },
        "id": "BBU1h8BV7Va1",
        "outputId": "4172b65f-485e-4e80-a939-52b31310a9b9"
      },
      "execution_count": 84,
      "outputs": [
        {
          "output_type": "stream",
          "name": "stdout",
          "text": [
            "421 ms ± 58 ms per loop (mean ± std. dev. of 7 runs, 1 loop each)\n",
            "47.6 ms ± 2.8 ms per loop (mean ± std. dev. of 7 runs, 10 loops each)\n",
            "33.3 ms ± 690 µs per loop (mean ± std. dev. of 7 runs, 10 loops each)\n"
          ]
        }
      ]
    }
  ]
}